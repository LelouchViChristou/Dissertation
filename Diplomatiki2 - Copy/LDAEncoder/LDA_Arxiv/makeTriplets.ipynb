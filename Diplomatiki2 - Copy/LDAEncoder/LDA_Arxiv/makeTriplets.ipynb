{
 "cells": [
  {
   "cell_type": "code",
   "execution_count": 1,
   "metadata": {},
   "outputs": [
    {
     "name": "stdout",
     "output_type": "stream",
     "text": [
      "Loaded 20000 triplets\n",
      "Loaded 20000 augmented_data\n",
      "('hep-ex/0407050', '0712.4154', '1807.03985')\n"
     ]
    },
    {
     "data": {
      "text/html": [
       "<div>\n",
       "<style scoped>\n",
       "    .dataframe tbody tr th:only-of-type {\n",
       "        vertical-align: middle;\n",
       "    }\n",
       "\n",
       "    .dataframe tbody tr th {\n",
       "        vertical-align: top;\n",
       "    }\n",
       "\n",
       "    .dataframe thead th {\n",
       "        text-align: right;\n",
       "    }\n",
       "</style>\n",
       "<table border=\"1\" class=\"dataframe\">\n",
       "  <thead>\n",
       "    <tr style=\"text-align: right;\">\n",
       "      <th></th>\n",
       "      <th>id</th>\n",
       "      <th>embedding</th>\n",
       "      <th>medoids</th>\n",
       "      <th>cluster_sizes</th>\n",
       "    </tr>\n",
       "  </thead>\n",
       "  <tbody>\n",
       "    <tr>\n",
       "      <th>0</th>\n",
       "      <td>hep-ph/0610334</td>\n",
       "      <td>[[-0.09863124, -0.025400802, -0.005175168, 0.0...</td>\n",
       "      <td>[[-0.113838255, -0.013086513, -0.026049882, 0....</td>\n",
       "      <td>[55, 19, 55, 8]</td>\n",
       "    </tr>\n",
       "    <tr>\n",
       "      <th>1</th>\n",
       "      <td>2104.06416</td>\n",
       "      <td>[[-0.084981225, -0.08507558, 0.03543399, 0.086...</td>\n",
       "      <td>[[-0.13890694, -0.045757502, 0.0331088, 0.0221...</td>\n",
       "      <td>[61, 49, 40, 28]</td>\n",
       "    </tr>\n",
       "    <tr>\n",
       "      <th>2</th>\n",
       "      <td>hep-ph/9606269</td>\n",
       "      <td>[[-0.116921924, -0.031099621, 0.09050446, 0.07...</td>\n",
       "      <td>[[-0.09846101, 0.05293004, 0.047359765, -0.025...</td>\n",
       "      <td>[28, 19, 12, 7]</td>\n",
       "    </tr>\n",
       "    <tr>\n",
       "      <th>3</th>\n",
       "      <td>hep-ph/9811382</td>\n",
       "      <td>[[-0.05011667, -0.0072394763, -0.017491272, 0....</td>\n",
       "      <td>[[-0.10917934, -0.025503034, -0.004675309, 0.0...</td>\n",
       "      <td>[46, 33, 10, 23]</td>\n",
       "    </tr>\n",
       "    <tr>\n",
       "      <th>4</th>\n",
       "      <td>1304.2781</td>\n",
       "      <td>[[-0.05021094, -0.04983033, -0.02687403, -0.02...</td>\n",
       "      <td>[[-0.054514293, -0.08432221, -0.044620816, -0....</td>\n",
       "      <td>[7, 7, 8, 3]</td>\n",
       "    </tr>\n",
       "  </tbody>\n",
       "</table>\n",
       "</div>"
      ],
      "text/plain": [
       "               id                                          embedding  \\\n",
       "0  hep-ph/0610334  [[-0.09863124, -0.025400802, -0.005175168, 0.0...   \n",
       "1      2104.06416  [[-0.084981225, -0.08507558, 0.03543399, 0.086...   \n",
       "2  hep-ph/9606269  [[-0.116921924, -0.031099621, 0.09050446, 0.07...   \n",
       "3  hep-ph/9811382  [[-0.05011667, -0.0072394763, -0.017491272, 0....   \n",
       "4       1304.2781  [[-0.05021094, -0.04983033, -0.02687403, -0.02...   \n",
       "\n",
       "                                             medoids     cluster_sizes  \n",
       "0  [[-0.113838255, -0.013086513, -0.026049882, 0....   [55, 19, 55, 8]  \n",
       "1  [[-0.13890694, -0.045757502, 0.0331088, 0.0221...  [61, 49, 40, 28]  \n",
       "2  [[-0.09846101, 0.05293004, 0.047359765, -0.025...   [28, 19, 12, 7]  \n",
       "3  [[-0.10917934, -0.025503034, -0.004675309, 0.0...  [46, 33, 10, 23]  \n",
       "4  [[-0.054514293, -0.08432221, -0.044620816, -0....      [7, 7, 8, 3]  "
      ]
     },
     "execution_count": 1,
     "metadata": {},
     "output_type": "execute_result"
    }
   ],
   "source": [
    "import pickle\n",
    "\n",
    "# Load the triplets from a file\n",
    "with open('Arxiv_tripletIds.pickle', 'rb') as f:\n",
    "    triplets = pickle.load(f)\n",
    "\n",
    "print(f\"Loaded {len(triplets)} triplets\")\n",
    "\n",
    "with open('augmented_dataArxiv.pkl', 'rb') as f:\n",
    "    df = pickle.load(f)\n",
    "\n",
    "print(f\"Loaded {len(triplets)} augmented_data\")\n",
    "print((triplets[0]))\n",
    "df.head()"
   ]
  },
  {
   "cell_type": "code",
   "execution_count": 4,
   "metadata": {},
   "outputs": [
    {
     "name": "stdout",
     "output_type": "stream",
     "text": [
      "Triplets have been saved to triplets_medoids_arxiv.pkl\n"
     ]
    }
   ],
   "source": [
    "import pickle\n",
    "\n",
    "# Create a dictionary to map id to medoids\n",
    "id_to_medoids = df.set_index('id')['medoids'].to_dict()\n",
    "id_to_cluster_sizes = df.set_index('id')['cluster_sizes'].to_dict()\n",
    "\n",
    "\n",
    "# Function to get medoids and cluster_sizes for a given id\n",
    "def get_medoids(id_tuple, mapping):\n",
    "    return tuple(mapping[id] if id in mapping else None for id in id_tuple)\n",
    "\n",
    "\n",
    "# Apply the function to each triplet\n",
    "triplet_medoids = [get_medoids(triplet, id_to_medoids) for triplet in triplets]\n",
    "\n",
    "# Specify your output pickle file name\n",
    "output_file = 'triplets_medoids_arxiv.pkl'\n",
    "\n",
    "# Write the list of medoids to a pickle file\n",
    "with open(output_file, 'wb') as f:\n",
    "    pickle.dump(triplet_medoids, f)\n",
    "\n",
    "print(f'Triplets have been saved to {output_file}')"
   ]
  },
  {
   "cell_type": "code",
   "execution_count": 5,
   "metadata": {},
   "outputs": [
    {
     "name": "stdout",
     "output_type": "stream",
     "text": [
      "20000\n"
     ]
    }
   ],
   "source": [
    "import pickle\n",
    "with open('triplets_medoids_arxiv.pkl', 'rb') as f:\n",
    "    triplets_medoids = pickle.load(f)\n",
    "print(len(triplets_medoids))"
   ]
  },
  {
   "cell_type": "markdown",
   "metadata": {},
   "source": [
    "with pos encoding"
   ]
  },
  {
   "cell_type": "code",
   "execution_count": 14,
   "metadata": {},
   "outputs": [],
   "source": [
    "# import pickle\n",
    "# import numpy as np\n",
    "\n",
    "# # Load the triplets from a file\n",
    "# with open('tripletIds.pickle', 'rb') as f:\n",
    "#     triplets = pickle.load(f)\n",
    "# # Read your dataframe from the file\n",
    "# with open('augmented_data.pkl', 'rb') as f:\n",
    "#     df = pickle.load(f)\n",
    "\n",
    "# # Create a dictionary to map id to medoids\n",
    "# id_to_medoids = df.set_index('id')['medoids'].to_dict()\n",
    "# id_to_cluster_sizes = df.set_index('id')['cluster_sizes'].to_dict()\n",
    "\n",
    "# def get_positional_encoding(norm_sizes, d_model):\n",
    "#     # Assumes d_model is even\n",
    "#     pos_encoding = np.zeros(d_model)\n",
    "#     for i, size in enumerate(norm_sizes):\n",
    "#         # Even indices use sine, odd indices use cosine\n",
    "#         pos_encoding[2*i] = np.sin(size) if 2*i < d_model else 0\n",
    "#         pos_encoding[2*i+1] = np.cos(size) if 2*i+1 < d_model else 0\n",
    "#     return pos_encoding\n",
    "\n",
    "\n",
    "# # Function to get medoids and cluster_sizes for a given id\n",
    "# def get_medoids(id_tuple, id_to_medoids, id_to_cluster_sizes):\n",
    "#     medoids_with_positional_encoding = []  # Initialize an empty list to hold the medoids with positional encoding\n",
    "#     for id in id_tuple:  # Loop through each id in the given tuple\n",
    "#         if id in id_to_medoids:\n",
    "#             medoids = id_to_medoids[id]\n",
    "#             sizes = id_to_cluster_sizes[id]\n",
    "#             # Normalize sizes to sum to 1\n",
    "#             normalized_sizes = np.array(sizes) / np.sum(sizes)\n",
    "#             # Calculate positional encoding for the normalized sizes\n",
    "#             pos_encoding = get_positional_encoding(normalized_sizes, medoids.shape[1])\n",
    "#             # Add positional encoding to the medoids\n",
    "#             medoid_with_pos_encoding = medoids + pos_encoding\n",
    "#             medoids_with_positional_encoding.append(medoid_with_pos_encoding)\n",
    "#         else:\n",
    "#             # If the id is not in the mapping, append None\n",
    "#             medoids_with_positional_encoding.append(None)\n",
    "#     return tuple(medoids_with_positional_encoding)  # Return the list of medoids with positional encoding\n",
    "\n",
    "\n",
    "# # Apply the function to each triplet\n",
    "# triplet_medoids = [get_medoids(triplet, id_to_medoids,id_to_cluster_sizes) for triplet in triplets]\n",
    "\n",
    "# print(len(triplet_medoids))\n"
   ]
  },
  {
   "cell_type": "code",
   "execution_count": 15,
   "metadata": {},
   "outputs": [],
   "source": [
    "\n",
    "# # Specify your output pickle file name\n",
    "# output_file = 'triplets_medoids_PosEncoding.pkl'\n",
    "\n",
    "# # Write the list of medoids to a pickle file\n",
    "# with open(output_file, 'wb') as f:\n",
    "#     pickle.dump(triplet_medoids, f)\n",
    "\n",
    "# print(f'Triplets have been saved to {output_file}')"
   ]
  }
 ],
 "metadata": {
  "kernelspec": {
   "display_name": "gensim",
   "language": "python",
   "name": "python3"
  },
  "language_info": {
   "codemirror_mode": {
    "name": "ipython",
    "version": 3
   },
   "file_extension": ".py",
   "mimetype": "text/x-python",
   "name": "python",
   "nbconvert_exporter": "python",
   "pygments_lexer": "ipython3",
   "version": "3.9.18"
  }
 },
 "nbformat": 4,
 "nbformat_minor": 2
}
