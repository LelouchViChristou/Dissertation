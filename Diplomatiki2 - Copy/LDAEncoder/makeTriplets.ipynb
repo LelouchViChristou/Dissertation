{
 "cells": [
  {
   "cell_type": "code",
   "execution_count": 11,
   "metadata": {},
   "outputs": [
    {
     "name": "stdout",
     "output_type": "stream",
     "text": [
      "Loaded 50000 triplets\n",
      "Loaded 50000 augmented_data\n",
      "('54984', '468091', '97962')\n"
     ]
    },
    {
     "data": {
      "text/html": [
       "<div>\n",
       "<style scoped>\n",
       "    .dataframe tbody tr th:only-of-type {\n",
       "        vertical-align: middle;\n",
       "    }\n",
       "\n",
       "    .dataframe tbody tr th {\n",
       "        vertical-align: top;\n",
       "    }\n",
       "\n",
       "    .dataframe thead th {\n",
       "        text-align: right;\n",
       "    }\n",
       "</style>\n",
       "<table border=\"1\" class=\"dataframe\">\n",
       "  <thead>\n",
       "    <tr style=\"text-align: right;\">\n",
       "      <th></th>\n",
       "      <th>id</th>\n",
       "      <th>embedding</th>\n",
       "      <th>medoids</th>\n",
       "      <th>cluster_sizes</th>\n",
       "    </tr>\n",
       "  </thead>\n",
       "  <tbody>\n",
       "    <tr>\n",
       "      <th>0</th>\n",
       "      <td>1</td>\n",
       "      <td>[[-0.0019472323, 0.058371827, 0.0812831, 0.030...</td>\n",
       "      <td>[[-0.004593551, 0.051833656, -0.013445671, -0....</td>\n",
       "      <td>[10, 7, 9, 1]</td>\n",
       "    </tr>\n",
       "    <tr>\n",
       "      <th>1</th>\n",
       "      <td>2</td>\n",
       "      <td>[[0.01151042, -0.021297293, -0.004139077, 0.03...</td>\n",
       "      <td>[[0.004454516, 0.011180584, 0.053998474, -0.02...</td>\n",
       "      <td>[6, 2, 5, 1]</td>\n",
       "    </tr>\n",
       "    <tr>\n",
       "      <th>2</th>\n",
       "      <td>6</td>\n",
       "      <td>[[0.013927452, 0.035443924, 0.016817052, -0.01...</td>\n",
       "      <td>[[-0.0025131523, 0.072745346, 0.04038468, -0.0...</td>\n",
       "      <td>[2, 2, 2, 4]</td>\n",
       "    </tr>\n",
       "    <tr>\n",
       "      <th>3</th>\n",
       "      <td>9</td>\n",
       "      <td>[[0.02544553, -0.03236037, 0.0035475865, 0.070...</td>\n",
       "      <td>[[-0.013504671, 0.07948076, 0.097698964, 0.042...</td>\n",
       "      <td>[2, 2, 1, 1]</td>\n",
       "    </tr>\n",
       "    <tr>\n",
       "      <th>4</th>\n",
       "      <td>13</td>\n",
       "      <td>[[0.017213065, -0.013364788, 0.013486441, -0.0...</td>\n",
       "      <td>[[-0.0059717577, 0.035555597, 0.024298443, -0....</td>\n",
       "      <td>[3, 3, 1, 3]</td>\n",
       "    </tr>\n",
       "  </tbody>\n",
       "</table>\n",
       "</div>"
      ],
      "text/plain": [
       "   id                                          embedding  \\\n",
       "0   1  [[-0.0019472323, 0.058371827, 0.0812831, 0.030...   \n",
       "1   2  [[0.01151042, -0.021297293, -0.004139077, 0.03...   \n",
       "2   6  [[0.013927452, 0.035443924, 0.016817052, -0.01...   \n",
       "3   9  [[0.02544553, -0.03236037, 0.0035475865, 0.070...   \n",
       "4  13  [[0.017213065, -0.013364788, 0.013486441, -0.0...   \n",
       "\n",
       "                                             medoids  cluster_sizes  \n",
       "0  [[-0.004593551, 0.051833656, -0.013445671, -0....  [10, 7, 9, 1]  \n",
       "1  [[0.004454516, 0.011180584, 0.053998474, -0.02...   [6, 2, 5, 1]  \n",
       "2  [[-0.0025131523, 0.072745346, 0.04038468, -0.0...   [2, 2, 2, 4]  \n",
       "3  [[-0.013504671, 0.07948076, 0.097698964, 0.042...   [2, 2, 1, 1]  \n",
       "4  [[-0.0059717577, 0.035555597, 0.024298443, -0....   [3, 3, 1, 3]  "
      ]
     },
     "execution_count": 11,
     "metadata": {},
     "output_type": "execute_result"
    }
   ],
   "source": [
    "import pickle\n",
    "\n",
    "# Load the triplets from a file\n",
    "with open('tripletIds.pickle', 'rb') as f:\n",
    "    triplets = pickle.load(f)\n",
    "\n",
    "print(f\"Loaded {len(triplets)} triplets\")\n",
    "\n",
    "with open('augmented_data.pkl', 'rb') as f:\n",
    "    df = pickle.load(f)\n",
    "\n",
    "print(f\"Loaded {len(triplets)} augmented_data\")\n",
    "print((triplets[0]))\n",
    "df.head()"
   ]
  },
  {
   "cell_type": "code",
   "execution_count": 12,
   "metadata": {},
   "outputs": [
    {
     "name": "stdout",
     "output_type": "stream",
     "text": [
      "Triplets have been saved to triplets_medoids.pkl\n"
     ]
    }
   ],
   "source": [
    "import pickle\n",
    "\n",
    "# Read your dataframe from the file\n",
    "with open('augmented_data.pkl', 'rb') as f:\n",
    "    df = pickle.load(f)\n",
    "\n",
    "# Create a dictionary to map id to medoids\n",
    "id_to_medoids = df.set_index('id')['medoids'].to_dict()\n",
    "id_to_cluster_sizes = df.set_index('id')['cluster_sizes'].to_dict()\n",
    "\n",
    "\n",
    "# Function to get medoids and cluster_sizes for a given id\n",
    "def get_medoids(id_tuple, mapping):\n",
    "    return tuple(mapping[id] if id in mapping else None for id in id_tuple)\n",
    "\n",
    "\n",
    "# Apply the function to each triplet\n",
    "triplet_medoids = [get_medoids(triplet, id_to_medoids) for triplet in triplets]\n",
    "\n",
    "# Specify your output pickle file name\n",
    "output_file = 'triplets_medoids.pkl'\n",
    "\n",
    "# Write the list of medoids to a pickle file\n",
    "with open(output_file, 'wb') as f:\n",
    "    pickle.dump(triplet_medoids, f)\n",
    "\n",
    "print(f'Triplets have been saved to {output_file}')"
   ]
  },
  {
   "cell_type": "code",
   "execution_count": 13,
   "metadata": {},
   "outputs": [
    {
     "name": "stdout",
     "output_type": "stream",
     "text": [
      "50000\n"
     ]
    }
   ],
   "source": [
    "import pickle\n",
    "with open('triplets_medoids.pkl', 'rb') as f:\n",
    "    triplets_medoids = pickle.load(f)\n",
    "print(len(triplets_medoids))"
   ]
  },
  {
   "cell_type": "markdown",
   "metadata": {},
   "source": [
    "with pos encoding"
   ]
  },
  {
   "cell_type": "code",
   "execution_count": 14,
   "metadata": {},
   "outputs": [],
   "source": [
    "# import pickle\n",
    "# import numpy as np\n",
    "\n",
    "# # Load the triplets from a file\n",
    "# with open('tripletIds.pickle', 'rb') as f:\n",
    "#     triplets = pickle.load(f)\n",
    "# # Read your dataframe from the file\n",
    "# with open('augmented_data.pkl', 'rb') as f:\n",
    "#     df = pickle.load(f)\n",
    "\n",
    "# # Create a dictionary to map id to medoids\n",
    "# id_to_medoids = df.set_index('id')['medoids'].to_dict()\n",
    "# id_to_cluster_sizes = df.set_index('id')['cluster_sizes'].to_dict()\n",
    "\n",
    "# def get_positional_encoding(norm_sizes, d_model):\n",
    "#     # Assumes d_model is even\n",
    "#     pos_encoding = np.zeros(d_model)\n",
    "#     for i, size in enumerate(norm_sizes):\n",
    "#         # Even indices use sine, odd indices use cosine\n",
    "#         pos_encoding[2*i] = np.sin(size) if 2*i < d_model else 0\n",
    "#         pos_encoding[2*i+1] = np.cos(size) if 2*i+1 < d_model else 0\n",
    "#     return pos_encoding\n",
    "\n",
    "\n",
    "# # Function to get medoids and cluster_sizes for a given id\n",
    "# def get_medoids(id_tuple, id_to_medoids, id_to_cluster_sizes):\n",
    "#     medoids_with_positional_encoding = []  # Initialize an empty list to hold the medoids with positional encoding\n",
    "#     for id in id_tuple:  # Loop through each id in the given tuple\n",
    "#         if id in id_to_medoids:\n",
    "#             medoids = id_to_medoids[id]\n",
    "#             sizes = id_to_cluster_sizes[id]\n",
    "#             # Normalize sizes to sum to 1\n",
    "#             normalized_sizes = np.array(sizes) / np.sum(sizes)\n",
    "#             # Calculate positional encoding for the normalized sizes\n",
    "#             pos_encoding = get_positional_encoding(normalized_sizes, medoids.shape[1])\n",
    "#             # Add positional encoding to the medoids\n",
    "#             medoid_with_pos_encoding = medoids + pos_encoding\n",
    "#             medoids_with_positional_encoding.append(medoid_with_pos_encoding)\n",
    "#         else:\n",
    "#             # If the id is not in the mapping, append None\n",
    "#             medoids_with_positional_encoding.append(None)\n",
    "#     return tuple(medoids_with_positional_encoding)  # Return the list of medoids with positional encoding\n",
    "\n",
    "\n",
    "# # Apply the function to each triplet\n",
    "# triplet_medoids = [get_medoids(triplet, id_to_medoids,id_to_cluster_sizes) for triplet in triplets]\n",
    "\n",
    "# print(len(triplet_medoids))\n"
   ]
  },
  {
   "cell_type": "code",
   "execution_count": 15,
   "metadata": {},
   "outputs": [],
   "source": [
    "\n",
    "# # Specify your output pickle file name\n",
    "# output_file = 'triplets_medoids_PosEncoding.pkl'\n",
    "\n",
    "# # Write the list of medoids to a pickle file\n",
    "# with open(output_file, 'wb') as f:\n",
    "#     pickle.dump(triplet_medoids, f)\n",
    "\n",
    "# print(f'Triplets have been saved to {output_file}')"
   ]
  }
 ],
 "metadata": {
  "kernelspec": {
   "display_name": "gensim",
   "language": "python",
   "name": "python3"
  },
  "language_info": {
   "codemirror_mode": {
    "name": "ipython",
    "version": 3
   },
   "file_extension": ".py",
   "mimetype": "text/x-python",
   "name": "python",
   "nbconvert_exporter": "python",
   "pygments_lexer": "ipython3",
   "version": "3.9.18"
  }
 },
 "nbformat": 4,
 "nbformat_minor": 2
}
